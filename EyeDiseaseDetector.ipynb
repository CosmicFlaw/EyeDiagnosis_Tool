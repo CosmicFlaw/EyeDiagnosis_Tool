{
  "nbformat": 4,
  "nbformat_minor": 0,
  "metadata": {
    "colab": {
      "provenance": [],
      "authorship_tag": "ABX9TyOKF2XlJvNzzmZCgwmiBuBx",
      "include_colab_link": true
    },
    "kernelspec": {
      "name": "python3",
      "display_name": "Python 3"
    },
    "language_info": {
      "name": "python"
    }
  },
  "cells": [
    {
      "cell_type": "markdown",
      "metadata": {
        "id": "view-in-github",
        "colab_type": "text"
      },
      "source": [
        "<a href=\"https://colab.research.google.com/github/CosmicFlaw/CosmicFlaw/blob/main/EyeDiseaseDetector.ipynb\" target=\"_parent\"><img src=\"https://colab.research.google.com/assets/colab-badge.svg\" alt=\"Open In Colab\"/></a>"
      ]
    },
    {
      "cell_type": "markdown",
      "source": [
        "---\n",
        "\n",
        "# Eye Disease Identification Project\n",
        "\n",
        "## Introduction\n",
        "\n",
        "The Eye Disease Identification Project is aimed at developing an AI-based system that can assist in the early detection of various eye diseases, including cataract, diabetic retinopathy, and glaucoma, using computer vision and deep learning techniques. This project leverages the capabilities of Python, OpenCV for image processing, and TensorFlow for machine learning to create a model that can analyze eye scan images and provide insights into potential diseases.\n",
        "\n",
        "## Objectives\n",
        "\n",
        "The primary objectives of this project are as follows:\n",
        "\n",
        "1. **Early Disease Detection**: Enable early detection of eye diseases through the analysis of eye scan images.\n",
        "\n",
        "2. **Automation**: Automate the process of disease identification to assist medical professionals and improve efficiency.\n",
        "\n",
        "3. **Accuracy**: Develop a robust model that provides accurate disease identification results.\n",
        "\n",
        "4. **User-Friendly**: Create an intuitive and user-friendly interface for users to upload eye scan images and receive disease predictions.\n",
        "\n",
        "5. **Scalability**: Design the system in a way that it can be expanded in the future to include more eye diseases and enhancements.\n",
        "\n",
        "## Project Structure\n",
        "\n",
        "The project is divided into the following key components:\n",
        "\n",
        "1. **Data Collection**: Gathering a comprehensive dataset of eye scan images with labeled disease information.\n",
        "\n",
        "2. **Data Preprocessing**: Preprocessing the collected data, including resizing, normalization, and augmentation.\n",
        "\n",
        "3. **Model Development**: Building a deep learning model using TensorFlow/Keras to classify eye scans into different disease categories.\n",
        "\n",
        "4. **User Interface**: Developing a user interface that allows users to upload their eye scans and receive disease predictions.\n",
        "\n",
        "5. **Model Deployment**: Integrating the trained model into the user interface for real-world use.\n",
        "\n",
        "---\n",
        "\n",
        "## Dependencies\n",
        "\n",
        "The project relies on several key libraries and frameworks:\n",
        "\n",
        "- [OpenCV](https://opencv.org/): For image processing and manipulation.\n",
        "- [TensorFlow](https://www.tensorflow.org/): For developing and training the deep learning model.\n",
        "- [Python](https://www.python.org/): As the primary programming language.\n",
        "\n",
        "## Dataset\n",
        "\n",
        "The success of the model largely depends on the quality and diversity of the dataset used for training and testing. In this project, we will use [provide the name or source of your dataset], which includes a wide variety of eye scans with disease annotations.\n",
        "\n",
        "This introductory section provides an overview of the Eye Disease Identification Project, its objectives, and the key components involved. You can further expand on each of these components in your Colab document as needed.\n"
      ],
      "metadata": {
        "id": "z6HdCiXyfLhm"
      }
    },
    {
      "cell_type": "markdown",
      "source": [
        "# **Importing** **Modules**"
      ],
      "metadata": {
        "id": "ErgQOT2P9yN9"
      }
    },
    {
      "cell_type": "code",
      "source": [],
      "metadata": {
        "id": "FsvHDEAV9wul"
      },
      "execution_count": null,
      "outputs": []
    },
    {
      "cell_type": "code",
      "execution_count": 14,
      "metadata": {
        "colab": {
          "base_uri": "https://localhost:8080/",
          "height": 366
        },
        "id": "vfmhX-0reROo",
        "outputId": "36cd1509-746c-428e-b2a3-4ce654cae43c"
      },
      "outputs": [
        {
          "output_type": "error",
          "ename": "FileNotFoundError",
          "evalue": "ignored",
          "traceback": [
            "\u001b[0;31m---------------------------------------------------------------------------\u001b[0m",
            "\u001b[0;31mFileNotFoundError\u001b[0m                         Traceback (most recent call last)",
            "\u001b[0;32m<ipython-input-14-4ef4b4ca6c92>\u001b[0m in \u001b[0;36m<cell line: 36>\u001b[0;34m()\u001b[0m\n\u001b[1;32m     34\u001b[0m \u001b[0;34m\u001b[0m\u001b[0m\n\u001b[1;32m     35\u001b[0m \u001b[0;31m#importing the folders with the image data\u001b[0m\u001b[0;34m\u001b[0m\u001b[0;34m\u001b[0m\u001b[0m\n\u001b[0;32m---> 36\u001b[0;31m \u001b[0mtrain\u001b[0m \u001b[0;34m=\u001b[0m \u001b[0mget_data\u001b[0m\u001b[0;34m(\u001b[0m\u001b[0;34m'C:/Users/Ragahwndra Malviya/My Documents/Input/Train'\u001b[0m\u001b[0;34m)\u001b[0m\u001b[0;34m\u001b[0m\u001b[0;34m\u001b[0m\u001b[0m\n\u001b[0m\u001b[1;32m     37\u001b[0m \u001b[0mtest\u001b[0m \u001b[0;34m=\u001b[0m \u001b[0mget_data\u001b[0m\u001b[0;34m(\u001b[0m\u001b[0;34m'C:/Users/Ragahwndra Malviya/My Documents/Input/Test'\u001b[0m\u001b[0;34m)\u001b[0m\u001b[0;34m\u001b[0m\u001b[0;34m\u001b[0m\u001b[0m\n\u001b[1;32m     38\u001b[0m \u001b[0;34m\u001b[0m\u001b[0m\n",
            "\u001b[0;32m<ipython-input-14-4ef4b4ca6c92>\u001b[0m in \u001b[0;36mget_data\u001b[0;34m(data_dir)\u001b[0m\n\u001b[1;32m     24\u001b[0m     \u001b[0mpath\u001b[0m \u001b[0;34m=\u001b[0m \u001b[0mos\u001b[0m\u001b[0;34m.\u001b[0m\u001b[0mpath\u001b[0m\u001b[0;34m.\u001b[0m\u001b[0mjoin\u001b[0m\u001b[0;34m(\u001b[0m\u001b[0mdata_dir\u001b[0m\u001b[0;34m,\u001b[0m \u001b[0mlabel\u001b[0m\u001b[0;34m)\u001b[0m\u001b[0;34m\u001b[0m\u001b[0;34m\u001b[0m\u001b[0m\n\u001b[1;32m     25\u001b[0m     \u001b[0mclass_num\u001b[0m \u001b[0;34m=\u001b[0m \u001b[0mlabels\u001b[0m\u001b[0;34m.\u001b[0m\u001b[0mindex\u001b[0m\u001b[0;34m(\u001b[0m\u001b[0mlabel\u001b[0m\u001b[0;34m)\u001b[0m\u001b[0;34m\u001b[0m\u001b[0;34m\u001b[0m\u001b[0m\n\u001b[0;32m---> 26\u001b[0;31m     \u001b[0;32mfor\u001b[0m \u001b[0mimg\u001b[0m \u001b[0;32min\u001b[0m \u001b[0mos\u001b[0m\u001b[0;34m.\u001b[0m\u001b[0mlistdir\u001b[0m\u001b[0;34m(\u001b[0m\u001b[0mpath\u001b[0m\u001b[0;34m)\u001b[0m\u001b[0;34m:\u001b[0m\u001b[0;34m\u001b[0m\u001b[0;34m\u001b[0m\u001b[0m\n\u001b[0m\u001b[1;32m     27\u001b[0m       \u001b[0;32mtry\u001b[0m\u001b[0;34m:\u001b[0m\u001b[0;34m\u001b[0m\u001b[0;34m\u001b[0m\u001b[0m\n\u001b[1;32m     28\u001b[0m         \u001b[0mimg_arr\u001b[0m \u001b[0;34m=\u001b[0m \u001b[0mcv2\u001b[0m\u001b[0;34m.\u001b[0m\u001b[0mimread\u001b[0m\u001b[0;34m(\u001b[0m\u001b[0mos\u001b[0m\u001b[0;34m.\u001b[0m\u001b[0mpath\u001b[0m\u001b[0;34m.\u001b[0m\u001b[0mjoin\u001b[0m\u001b[0;34m(\u001b[0m\u001b[0mpath\u001b[0m\u001b[0;34m,\u001b[0m \u001b[0mimg\u001b[0m\u001b[0;34m)\u001b[0m\u001b[0;34m)\u001b[0m\u001b[0;34m\u001b[0m\u001b[0;34m\u001b[0m\u001b[0m\n",
            "\u001b[0;31mFileNotFoundError\u001b[0m: [Errno 2] No such file or directory: 'C:/Users/Ragahwndra Malviya/My Documents/Input/Train/cataract'"
          ]
        }
      ],
      "source": [
        "import numpy as np\n",
        "import matplotlib as plt\n",
        "import seaborn as sns\n",
        "import cv2\n",
        "\n",
        "import keras\n",
        "from keras.preprocessing.image import ImageDataGenerator\n",
        "from keras.models import Sequential\n",
        "from keras.optimizers import Adam\n",
        "from keras.layers import Dense, Conv2D, MaxPool2D, Flatten, Dropout\n",
        "\n",
        "from sklearn.metrics import classification_report, confusion_matrix\n",
        "\n",
        "import tensorflow as tf\n",
        "import os\n",
        "\n",
        "\n",
        "labels = ['cataract', 'diabetic retinopathy', 'glaucoma', 'normal']\n",
        "img_size = 224\n",
        "\n",
        "def get_data (data_dir):\n",
        "  data = []\n",
        "  for label in labels:\n",
        "    path = os.path.join(data_dir, label)\n",
        "    class_num = labels.index(label)\n",
        "    for img in os.listdir(path):\n",
        "      try:\n",
        "        img_arr = cv2.imread(os.path.join(path, img))\n",
        "        resized_arr = cv2.resize(img_arr, (img_size, img_size))\n",
        "        data.append([resized_arr, class_num])\n",
        "      except Exception as e:\n",
        "        print(e)\n",
        "  return np.array(data)\n",
        "\n",
        "#importing the folders with the image data\n",
        "train = get_data('C:/Users/Ragahwndra Malviya/My Documents/Input/Train')\n",
        "test = get_data('C:/Users/Ragahwndra Malviya/My Documents/Input/Test')\n",
        "\n",
        "\n",
        "l = []\n",
        "for i in train:\n",
        "  if(i[1] == 0):\n",
        "    l.append(\"cataract\")\n",
        "  elif(i[1] == 1):\n",
        "    l.append(\"diabetic retinopathy\")\n",
        "  elif(i[1] == 2):\n",
        "    l.append(\"glaucoma\")\n",
        "  else:\n",
        "    l.append(\"normal\")\n",
        "sns.set_style('darkgrid')\n",
        "sns.countplot(l)\n",
        "\n",
        "\n",
        "\n",
        "\n",
        "\n",
        "\n",
        "\n",
        "\n",
        "\n",
        "\n",
        "\n",
        "\n",
        "\n",
        "\n"
      ]
    },
    {
      "cell_type": "code",
      "source": [],
      "metadata": {
        "id": "aX9HuQBQe44C"
      },
      "execution_count": null,
      "outputs": []
    },
    {
      "cell_type": "markdown",
      "source": [
        "IN PROGRESS"
      ],
      "metadata": {
        "id": "sxW_Rf5fIyh3"
      }
    },
    {
      "cell_type": "markdown",
      "source": [
        "THIS MODEL HAS BEEN MADE AS PART OF AI FEST"
      ],
      "metadata": {
        "id": "lXTCMn11IyoK"
      }
    }
  ]
}